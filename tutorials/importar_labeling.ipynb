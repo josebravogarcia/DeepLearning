{
  "nbformat": 4,
  "nbformat_minor": 0,
  "metadata": {
    "colab": {
      "name": "Untitled1.ipynb",
      "provenance": [],
      "authorship_tag": "ABX9TyOLG28IrrT6e4HueYdNs4Rs",
      "include_colab_link": true
    },
    "kernelspec": {
      "name": "python3",
      "display_name": "Python 3"
    },
    "language_info": {
      "name": "python"
    }
  },
  "cells": [
    {
      "cell_type": "markdown",
      "metadata": {
        "id": "view-in-github",
        "colab_type": "text"
      },
      "source": [
        "<a href=\"https://colab.research.google.com/github/josebravogarcia/DeepLearning/blob/main/tutorials/importar_labeling.ipynb\" target=\"_parent\"><img src=\"https://colab.research.google.com/assets/colab-badge.svg\" alt=\"Open In Colab\"/></a>"
      ]
    },
    {
      "cell_type": "code",
      "metadata": {
        "colab": {
          "base_uri": "https://localhost:8080/"
        },
        "id": "8oLg7IoMjuQ1",
        "outputId": "57e04b28-1da0-443b-a14d-fc690d8421ca"
      },
      "source": [
        "import tensorflow as tf\n",
        "\n",
        "import numpy as np\n",
        "import IPython.display as display\n",
        "\n",
        "!git clone https://github.com/josebravogarcia/DeepLearning\n",
        "%cd DeepLearning/main/tutorials"
      ],
      "execution_count": 3,
      "outputs": [
        {
          "output_type": "stream",
          "name": "stdout",
          "text": [
            "Cloning into 'DeepLearning'...\n",
            "remote: Enumerating objects: 104, done.\u001b[K\n",
            "remote: Counting objects: 100% (104/104), done.\u001b[K\n",
            "remote: Compressing objects: 100% (95/95), done.\u001b[K\n",
            "remote: Total 104 (delta 21), reused 0 (delta 0), pack-reused 0\u001b[K\n",
            "Receiving objects: 100% (104/104), 50.59 MiB | 9.40 MiB/s, done.\n",
            "Resolving deltas: 100% (21/21), done.\n",
            "[Errno 2] No such file or directory: '/main/tutorials'\n",
            "/content\n"
          ]
        }
      ]
    },
    {
      "cell_type": "code",
      "metadata": {
        "colab": {
          "base_uri": "https://localhost:8080/"
        },
        "id": "O6CO-tR0kJn0",
        "outputId": "bf4e5de2-d171-4f53-b63f-8743ce8a749a"
      },
      "source": [
        "%cd DeepLearning/tutorials\n",
        "!ls"
      ],
      "execution_count": 7,
      "outputs": [
        {
          "output_type": "stream",
          "name": "stdout",
          "text": [
            "/content/DeepLearning/tutorials\n",
            "'190917_201514_0000000003_&icapbk[000].bmp'\n",
            "'190917_201537_0000000004_&icapbk[000].bmp'\n",
            "'190917_201558_0000000005_&icapbk[000].bmp'\n",
            "'190917_201618_0000000006_&icapbk[000].bmp'\n",
            "'190917_201639_0000000007_&icapbk[000].bmp'\n",
            "'190917_201703_0000000008_&icapbk[000].bmp'\n",
            "'190917_201723_0000000009_&icapbk[000].bmp'\n",
            "'190917_201743_0000000010_&icapbk[000].bmp'\n",
            "'190917_201804_0000000011_&icapbk[000].bmp'\n",
            "'190917_201829_0000000012_&icapbk[000].bmp'\n",
            "'190917_201848_0000000013_&icapbk[000].bmp'\n",
            "'190917_201907_0000000014_&icapbk[000].bmp'\n",
            "'190917_201927_0000000015_&icapbk[000].bmp'\n",
            "'190917_201948_0000000016_&icapbk[000].bmp'\n",
            "'190917_202008_0000000017_&icapbk[000].bmp'\n",
            "'190917_202026_0000000018_&icapbk[000].bmp'\n",
            "'190917_202045_0000000019_&icapbk[000].bmp'\n",
            "'190917_202105_0000000020_&icapbk[000].bmp'\n",
            "'190917_202124_0000000021_&icapbk[000].bmp'\n",
            "'190917_202424_0000000022_&icapbk[000].bmp'\n",
            "'190917_202444_0000000023_&icapbk[000].bmp'\n",
            "'190917_202502_0000000024_&icapbk[000].bmp'\n",
            "'190917_202521_0000000025_&icapbk[000].bmp'\n",
            "'190917_202541_0000000026_&icapbk[000].bmp'\n",
            "'190917_202600_0000000027_&icapbk[000].bmp'\n",
            "'190917_202619_0000000028_&icapbk[000].bmp'\n",
            "'190917_202640_0000000029_&icapbk[000].bmp'\n",
            "'190917_202700_0000000030_&icapbk[000].bmp'\n",
            "'190917_202719_0000000031_&icapbk[000].bmp'\n",
            "'190917_202740_0000000032_&icapbk[000].bmp'\n",
            "'190917_202759_0000000033_&icapbk[000].bmp'\n",
            "'190917_202819_0000000034_&icapbk[000].bmp'\n",
            "'190917_202841_0000000035_&icapbk[000].bmp'\n",
            "'190917_202900_0000000036_&icapbk[000].bmp'\n",
            "'190917_202922_0000000037_&icapbk[000].bmp'\n",
            "'190917_202944_0000000038_&icapbk[000].bmp'\n",
            "'190917_203004_0000000039_&icapbk[000].bmp'\n",
            "'190917_203023_0000000040_&icapbk[000].bmp'\n",
            "'190917_203041_0000000041_&icapbk[000].bmp'\n",
            "'190917_203100_0000000042_&icapbk[000].bmp'\n",
            " 1-beginner.ipynb\n",
            "'201016_172722_0000000395_&icapbk[000].bmp'\n",
            "'201021_211229_0000001071_&icapbk[000].bmp'\n",
            "'201021_211229_0000001071_&icapbk[000] - copia.bmp'\n",
            "'201029_192630_0000002728_&icapbk[000].bmp'\n",
            "'201029_212802_0000004599_&icapbk[000].bmp'\n",
            "'201029_213450_0000004665_&icapbk[000].bmp'\n",
            "'201103_195337_0000000750_&icapbk[000].bmp'\n",
            "'201103_201817_0000001138_&icapbk[000].bmp'\n",
            "'201104_183408_0000000179_&icapbk[000].bmp'\n",
            " 2-cnn.ipynb\n",
            " 2-mobileNet.ipynb\n",
            " 4-cnn_optimizada.ipynb\n",
            " default.tfrecord\n",
            " Industrial_Defect_Inspection_with_image_segmentation.ipynb\n",
            " label_map.pbtxt\n"
          ]
        }
      ]
    },
    {
      "cell_type": "code",
      "metadata": {
        "id": "6OjX6UZl-bHC",
        "colab": {
          "base_uri": "https://localhost:8080/"
        },
        "outputId": "6f85c6c5-8025-4418-f161-450c1f4f6acf"
      },
      "source": [
        "filenames = ['default.tfrecord']\n",
        "raw_dataset = tf.data.TFRecordDataset(filenames)\n",
        "raw_dataset"
      ],
      "execution_count": 8,
      "outputs": [
        {
          "output_type": "execute_result",
          "data": {
            "text/plain": [
              "<TFRecordDatasetV2 shapes: (), types: tf.string>"
            ]
          },
          "metadata": {},
          "execution_count": 8
        }
      ]
    },
    {
      "cell_type": "code",
      "metadata": {
        "colab": {
          "base_uri": "https://localhost:8080/"
        },
        "id": "QK56_Hx4mDaV",
        "outputId": "654e3ffb-9b67-4491-a229-1d150e4e9fbb"
      },
      "source": [
        "for raw_record in raw_dataset.take(2):\n",
        "  print(repr(raw_record))"
      ],
      "execution_count": 27,
      "outputs": [
        {
          "output_type": "stream",
          "name": "stdout",
          "text": [
            "<tf.Tensor: shape=(), dtype=string, numpy=b'\\n\\xab\\x03\\n!\\n\\x18image/object/class/label\\x12\\x05\\x1a\\x03\\n\\x01\\x01\\n\"\\n\\x16image/object/bbox/ymax\\x12\\x08\\x12\\x06\\n\\x04\\x99\\x051?\\n\\x18\\n\\x10image/key/sha256\\x12\\x04\\n\\x02\\n\\x00\\n?\\n\\x0eimage/filename\\x12-\\n+\\n)201104_183408_0000000179_&icapbk[000].bmp\\n\"\\n\\x16image/object/bbox/xmin\\x12\\x08\\x12\\x06\\n\\x04\\xcf\\xf7K?\\n\"\\n\\x16image/object/bbox/ymin\\x12\\x08\\x12\\x06\\n\\x04\\x95\\xaf\\x1e?\\n\\x15\\n\\x0bimage/width\\x12\\x06\\x1a\\x04\\n\\x02\\xc0\\x0c\\n\\x15\\n\\rimage/encoded\\x12\\x04\\n\\x02\\n\\x00\\n\"\\n\\x16image/object/bbox/xmax\\x12\\x08\\x12\\x06\\n\\x04\\x07_T?\\n&\\n\\x17image/object/class/text\\x12\\x0b\\n\\t\\n\\x07Defecto\\n\\x16\\n\\x0cimage/height\\x12\\x06\\x1a\\x04\\n\\x02\\xb0\\t\\n\\x14\\n\\x0cimage/format\\x12\\x04\\n\\x02\\n\\x00\\n\\x17\\n\\x0fimage/source_id\\x12\\x04\\n\\x02\\n\\x00'>\n",
            "<tf.Tensor: shape=(), dtype=string, numpy=b'\\n\\xd0\\x01\\n\\x18\\n\\x10image/key/sha256\\x12\\x04\\n\\x02\\n\\x00\\n?\\n\\x0eimage/filename\\x12-\\n+\\n)201103_201817_0000001138_&icapbk[000].bmp\\n\\x15\\n\\x0bimage/width\\x12\\x06\\x1a\\x04\\n\\x02\\xc0\\x0c\\n\\x17\\n\\x0fimage/source_id\\x12\\x04\\n\\x02\\n\\x00\\n\\x14\\n\\x0cimage/format\\x12\\x04\\n\\x02\\n\\x00\\n\\x16\\n\\x0cimage/height\\x12\\x06\\x1a\\x04\\n\\x02\\xb0\\t\\n\\x15\\n\\rimage/encoded\\x12\\x04\\n\\x02\\n\\x00'>\n"
          ]
        }
      ]
    },
    {
      "cell_type": "code",
      "metadata": {
        "colab": {
          "base_uri": "https://localhost:8080/"
        },
        "id": "ZJR73isxmXVT",
        "outputId": "c32f626c-e776-4afe-da14-2cd0ff21fa44"
      },
      "source": [
        "result = {}\n",
        "i=0\n",
        "\n",
        "for raw_record in raw_dataset.take(60):\n",
        "  example = tf.train.Example()\n",
        "  example.ParseFromString(raw_record.numpy())\n",
        "  #print(example)\n",
        "\n",
        "  for key, feature in example.features.feature.items():\n",
        "  # The values are the Feature objects which contain a `kind` which contains:\n",
        "  # one of three fields: bytes_list, float_list, int64_list\n",
        "\n",
        "    kind = feature.WhichOneof('kind')\n",
        "    result[key] = np.array(getattr(feature, kind).value)\n",
        "\n",
        "  i = i+1  \n",
        "  print(str(i) + \"-\" + str(result))\n"
      ],
      "execution_count": 55,
      "outputs": [
        {
          "output_type": "stream",
          "name": "stdout",
          "text": [
            "1-{'image/object/bbox/xmin': array([0.79675001]), 'image/object/bbox/ymax': array([0.69149166]), 'image/encoded': array([b''], dtype='|S1'), 'image/object/bbox/xmax': array([0.829575]), 'image/width': array([1600]), 'image/object/bbox/ymin': array([0.61986667]), 'image/filename': array([b'201104_183408_0000000179_&icapbk[000].bmp'], dtype='|S41'), 'image/height': array([1200]), 'image/object/class/label': array([1]), 'image/source_id': array([b''], dtype='|S1'), 'image/key/sha256': array([b''], dtype='|S1'), 'image/format': array([b''], dtype='|S1'), 'image/object/class/text': array([b'Defecto'], dtype='|S7')}\n",
            "2-{'image/object/bbox/xmin': array([0.79675001]), 'image/object/bbox/ymax': array([0.69149166]), 'image/encoded': array([b''], dtype='|S1'), 'image/object/bbox/xmax': array([0.829575]), 'image/width': array([1600]), 'image/object/bbox/ymin': array([0.61986667]), 'image/filename': array([b'201103_201817_0000001138_&icapbk[000].bmp'], dtype='|S41'), 'image/height': array([1200]), 'image/object/class/label': array([1]), 'image/source_id': array([b''], dtype='|S1'), 'image/key/sha256': array([b''], dtype='|S1'), 'image/format': array([b''], dtype='|S1'), 'image/object/class/text': array([b'Defecto'], dtype='|S7')}\n",
            "3-{'image/object/bbox/xmin': array([0.79675001]), 'image/object/bbox/ymax': array([0.69149166]), 'image/encoded': array([b''], dtype='|S1'), 'image/object/bbox/xmax': array([0.829575]), 'image/width': array([1600]), 'image/object/bbox/ymin': array([0.61986667]), 'image/filename': array([b'201103_195337_0000000750_&icapbk[000].bmp'], dtype='|S41'), 'image/height': array([1200]), 'image/object/class/label': array([1]), 'image/source_id': array([b''], dtype='|S1'), 'image/key/sha256': array([b''], dtype='|S1'), 'image/format': array([b''], dtype='|S1'), 'image/object/class/text': array([b'Defecto'], dtype='|S7')}\n",
            "4-{'image/object/bbox/xmin': array([0.82002503]), 'image/object/bbox/ymax': array([0.56509167]), 'image/encoded': array([b''], dtype='|S1'), 'image/object/bbox/xmax': array([0.83394998]), 'image/width': array([1600]), 'image/object/bbox/ymin': array([0.54453331]), 'image/filename': array([b'201029_213450_0000004665_&icapbk[000].bmp'], dtype='|S41'), 'image/height': array([1200]), 'image/object/class/label': array([1]), 'image/source_id': array([b''], dtype='|S1'), 'image/key/sha256': array([b''], dtype='|S1'), 'image/format': array([b''], dtype='|S1'), 'image/object/class/text': array([b'Defecto'], dtype='|S7')}\n",
            "5-{'image/object/bbox/xmin': array([0.79622501]), 'image/object/bbox/ymax': array([0.54192501]), 'image/encoded': array([b''], dtype='|S1'), 'image/object/bbox/xmax': array([0.80572498]), 'image/width': array([1600]), 'image/object/bbox/ymin': array([0.51545]), 'image/filename': array([b'201029_212802_0000004599_&icapbk[000].bmp'], dtype='|S41'), 'image/height': array([1200]), 'image/object/class/label': array([1]), 'image/source_id': array([b''], dtype='|S1'), 'image/key/sha256': array([b''], dtype='|S1'), 'image/format': array([b''], dtype='|S1'), 'image/object/class/text': array([b'Defecto'], dtype='|S7')}\n",
            "6-{'image/object/bbox/xmin': array([0.791825]), 'image/object/bbox/ymax': array([0.67185831]), 'image/encoded': array([b''], dtype='|S1'), 'image/object/bbox/xmax': array([0.80973125]), 'image/width': array([1600]), 'image/object/bbox/ymin': array([0.65594167]), 'image/filename': array([b'201029_192630_0000002728_&icapbk[000].bmp'], dtype='|S41'), 'image/height': array([1200]), 'image/object/class/label': array([1]), 'image/source_id': array([b''], dtype='|S1'), 'image/key/sha256': array([b''], dtype='|S1'), 'image/format': array([b''], dtype='|S1'), 'image/object/class/text': array([b'Defecto'], dtype='|S7')}\n",
            "7-{'image/object/bbox/xmin': array([0.64926875]), 'image/object/bbox/ymax': array([0.70625836]), 'image/encoded': array([b''], dtype='|S1'), 'image/object/bbox/xmax': array([0.67621249]), 'image/width': array([1600]), 'image/object/bbox/ymin': array([0.66370833]), 'image/filename': array([b'201021_211229_0000001071_&icapbk[000].bmp'], dtype='|S41'), 'image/height': array([1200]), 'image/object/class/label': array([1]), 'image/source_id': array([b''], dtype='|S1'), 'image/key/sha256': array([b''], dtype='|S1'), 'image/format': array([b''], dtype='|S1'), 'image/object/class/text': array([b'Defecto'], dtype='|S7')}\n",
            "8-{'image/object/bbox/xmin': array([0.65150625]), 'image/object/bbox/ymax': array([0.70671666]), 'image/encoded': array([b''], dtype='|S1'), 'image/object/bbox/xmax': array([0.67368752]), 'image/width': array([1600]), 'image/object/bbox/ymin': array([0.65991664]), 'image/filename': array([b'201021_211229_0000001071_&icapbk[000] - copia.bmp'], dtype='|S49'), 'image/height': array([1200]), 'image/object/class/label': array([1]), 'image/source_id': array([b''], dtype='|S1'), 'image/key/sha256': array([b''], dtype='|S1'), 'image/format': array([b''], dtype='|S1'), 'image/object/class/text': array([b'Defecto'], dtype='|S7')}\n",
            "9-{'image/object/bbox/xmin': array([0.65150625]), 'image/object/bbox/ymax': array([0.70671666]), 'image/encoded': array([b''], dtype='|S1'), 'image/object/bbox/xmax': array([0.67368752]), 'image/width': array([1600]), 'image/object/bbox/ymin': array([0.65991664]), 'image/filename': array([b'201016_172722_0000000395_&icapbk[000].bmp'], dtype='|S41'), 'image/height': array([1200]), 'image/object/class/label': array([1]), 'image/source_id': array([b''], dtype='|S1'), 'image/key/sha256': array([b''], dtype='|S1'), 'image/format': array([b''], dtype='|S1'), 'image/object/class/text': array([b'Defecto'], dtype='|S7')}\n",
            "10-{'image/object/bbox/xmin': array([0.78016251]), 'image/object/bbox/ymax': array([0.4463]), 'image/encoded': array([b''], dtype='|S1'), 'image/object/bbox/xmax': array([0.79922497]), 'image/width': array([1600]), 'image/object/bbox/ymin': array([0.41203332]), 'image/filename': array([b'190917_203100_0000000042_&icapbk[000].bmp'], dtype='|S41'), 'image/height': array([1200]), 'image/object/class/label': array([1]), 'image/source_id': array([b''], dtype='|S1'), 'image/key/sha256': array([b''], dtype='|S1'), 'image/format': array([b''], dtype='|S1'), 'image/object/class/text': array([b'Defecto'], dtype='|S7')}\n",
            "11-{'image/object/bbox/xmin': array([0.79355627]), 'image/object/bbox/ymax': array([0.4434]), 'image/encoded': array([b''], dtype='|S1'), 'image/object/bbox/xmax': array([0.81325001]), 'image/width': array([1600]), 'image/object/bbox/ymin': array([0.38928333]), 'image/filename': array([b'190917_203041_0000000041_&icapbk[000].bmp'], dtype='|S41'), 'image/height': array([1200]), 'image/object/class/label': array([1]), 'image/source_id': array([b''], dtype='|S1'), 'image/key/sha256': array([b''], dtype='|S1'), 'image/format': array([b''], dtype='|S1'), 'image/object/class/text': array([b'Defecto'], dtype='|S7')}\n",
            "12-{'image/object/bbox/xmin': array([0.80073124]), 'image/object/bbox/ymax': array([0.492075]), 'image/encoded': array([b''], dtype='|S1'), 'image/object/bbox/xmax': array([0.82012498]), 'image/width': array([1600]), 'image/object/bbox/ymin': array([0.45295]), 'image/filename': array([b'190917_203023_0000000040_&icapbk[000].bmp'], dtype='|S41'), 'image/height': array([1200]), 'image/object/class/label': array([1]), 'image/source_id': array([b''], dtype='|S1'), 'image/key/sha256': array([b''], dtype='|S1'), 'image/format': array([b''], dtype='|S1'), 'image/object/class/text': array([b'Defecto'], dtype='|S7')}\n",
            "13-{'image/object/bbox/xmin': array([0.81067502, 0.82012498]), 'image/object/bbox/ymax': array([0.51515836, 0.561575  ]), 'image/encoded': array([b''], dtype='|S1'), 'image/object/bbox/xmax': array([0.82609373, 0.83305627]), 'image/width': array([1600]), 'image/object/bbox/ymin': array([0.47934166, 0.52775836]), 'image/filename': array([b'190917_203004_0000000039_&icapbk[000].bmp'], dtype='|S41'), 'image/height': array([1200]), 'image/object/class/label': array([1, 1]), 'image/source_id': array([b''], dtype='|S1'), 'image/key/sha256': array([b''], dtype='|S1'), 'image/format': array([b''], dtype='|S1'), 'image/object/class/text': array([b'Defecto', b'Defecto'], dtype='|S7')}\n",
            "14-{'image/object/bbox/xmin': array([0.74766874]), 'image/object/bbox/ymax': array([0.63540834]), 'image/encoded': array([b''], dtype='|S1'), 'image/object/bbox/xmax': array([0.76548749]), 'image/width': array([1600]), 'image/object/bbox/ymin': array([0.59506667]), 'image/filename': array([b'190917_202944_0000000038_&icapbk[000].bmp'], dtype='|S41'), 'image/height': array([1200]), 'image/object/class/label': array([1]), 'image/source_id': array([b''], dtype='|S1'), 'image/key/sha256': array([b''], dtype='|S1'), 'image/format': array([b''], dtype='|S1'), 'image/object/class/text': array([b'Defecto'], dtype='|S7')}\n",
            "15-{'image/object/bbox/xmin': array([0.79887497]), 'image/object/bbox/ymax': array([0.60224998]), 'image/encoded': array([b''], dtype='|S1'), 'image/object/bbox/xmax': array([0.82318747]), 'image/width': array([1600]), 'image/object/bbox/ymin': array([0.54291666]), 'image/filename': array([b'190917_202922_0000000037_&icapbk[000].bmp'], dtype='|S41'), 'image/height': array([1200]), 'image/object/class/label': array([1]), 'image/source_id': array([b''], dtype='|S1'), 'image/key/sha256': array([b''], dtype='|S1'), 'image/format': array([b''], dtype='|S1'), 'image/object/class/text': array([b'Defecto'], dtype='|S7')}\n",
            "16-{'image/object/bbox/xmin': array([0.81904376]), 'image/object/bbox/ymax': array([0.57819998]), 'image/encoded': array([b''], dtype='|S1'), 'image/object/bbox/xmax': array([0.83596873]), 'image/width': array([1600]), 'image/object/bbox/ymin': array([0.53030831]), 'image/filename': array([b'190917_202900_0000000036_&icapbk[000].bmp'], dtype='|S41'), 'image/height': array([1200]), 'image/object/class/label': array([1]), 'image/source_id': array([b''], dtype='|S1'), 'image/key/sha256': array([b''], dtype='|S1'), 'image/format': array([b''], dtype='|S1'), 'image/object/class/text': array([b'Defecto'], dtype='|S7')}\n",
            "17-{'image/object/bbox/xmin': array([0.81112498]), 'image/object/bbox/ymax': array([0.59363335]), 'image/encoded': array([b''], dtype='|S1'), 'image/object/bbox/xmax': array([0.82355624]), 'image/width': array([1600]), 'image/object/bbox/ymin': array([0.561575]), 'image/filename': array([b'190917_202841_0000000035_&icapbk[000].bmp'], dtype='|S41'), 'image/height': array([1200]), 'image/object/class/label': array([1]), 'image/source_id': array([b''], dtype='|S1'), 'image/key/sha256': array([b''], dtype='|S1'), 'image/format': array([b''], dtype='|S1'), 'image/object/class/text': array([b'Defecto'], dtype='|S7')}\n",
            "18-{'image/object/bbox/xmin': array([0.78018749]), 'image/object/bbox/ymax': array([0.63956666]), 'image/encoded': array([b''], dtype='|S1'), 'image/object/bbox/xmax': array([0.80853748]), 'image/width': array([1600]), 'image/object/bbox/ymin': array([0.57390833]), 'image/filename': array([b'190917_202819_0000000034_&icapbk[000].bmp'], dtype='|S41'), 'image/height': array([1200]), 'image/object/class/label': array([1]), 'image/source_id': array([b''], dtype='|S1'), 'image/key/sha256': array([b''], dtype='|S1'), 'image/format': array([b''], dtype='|S1'), 'image/object/class/text': array([b'Defecto'], dtype='|S7')}\n",
            "19-{'image/object/bbox/xmin': array([0.8056125]), 'image/object/bbox/ymax': array([0.64823335]), 'image/encoded': array([b''], dtype='|S1'), 'image/object/bbox/xmax': array([0.82384998]), 'image/width': array([1600]), 'image/object/bbox/ymin': array([0.58578336]), 'image/filename': array([b'190917_202759_0000000033_&icapbk[000].bmp'], dtype='|S41'), 'image/height': array([1200]), 'image/object/class/label': array([1]), 'image/source_id': array([b''], dtype='|S1'), 'image/key/sha256': array([b''], dtype='|S1'), 'image/format': array([b''], dtype='|S1'), 'image/object/class/text': array([b'Defecto'], dtype='|S7')}\n",
            "20-{'image/object/bbox/xmin': array([0.8056125]), 'image/object/bbox/ymax': array([0.64823335]), 'image/encoded': array([b''], dtype='|S1'), 'image/object/bbox/xmax': array([0.82384998]), 'image/width': array([1600]), 'image/object/bbox/ymin': array([0.58578336]), 'image/filename': array([b'190917_202740_0000000032_&icapbk[000].bmp'], dtype='|S41'), 'image/height': array([1200]), 'image/object/class/label': array([1]), 'image/source_id': array([b''], dtype='|S1'), 'image/key/sha256': array([b''], dtype='|S1'), 'image/format': array([b''], dtype='|S1'), 'image/object/class/text': array([b'Defecto'], dtype='|S7')}\n",
            "21-{'image/object/bbox/xmin': array([0.78735]), 'image/object/bbox/ymax': array([0.62882501]), 'image/encoded': array([b''], dtype='|S1'), 'image/object/bbox/xmax': array([0.82067502]), 'image/width': array([1600]), 'image/object/bbox/ymin': array([0.55255836]), 'image/filename': array([b'190917_202719_0000000031_&icapbk[000].bmp'], dtype='|S41'), 'image/height': array([1200]), 'image/object/class/label': array([1]), 'image/source_id': array([b''], dtype='|S1'), 'image/key/sha256': array([b''], dtype='|S1'), 'image/format': array([b''], dtype='|S1'), 'image/object/class/text': array([b'Defecto'], dtype='|S7')}\n",
            "22-{'image/object/bbox/xmin': array([0.79716247]), 'image/object/bbox/ymax': array([0.39647499]), 'image/encoded': array([b''], dtype='|S1'), 'image/object/bbox/xmax': array([0.81285]), 'image/width': array([1600]), 'image/object/bbox/ymin': array([0.3739]), 'image/filename': array([b'190917_202700_0000000030_&icapbk[000].bmp'], dtype='|S41'), 'image/height': array([1200]), 'image/object/class/label': array([1]), 'image/source_id': array([b''], dtype='|S1'), 'image/key/sha256': array([b''], dtype='|S1'), 'image/format': array([b''], dtype='|S1'), 'image/object/class/text': array([b'Defecto'], dtype='|S7')}\n",
            "23-{'image/object/bbox/xmin': array([0.79992503]), 'image/object/bbox/ymax': array([0.59417498]), 'image/encoded': array([b''], dtype='|S1'), 'image/object/bbox/xmax': array([0.81691873]), 'image/width': array([1600]), 'image/object/bbox/ymin': array([0.55500001]), 'image/filename': array([b'190917_202640_0000000029_&icapbk[000].bmp'], dtype='|S41'), 'image/height': array([1200]), 'image/object/class/label': array([1]), 'image/source_id': array([b''], dtype='|S1'), 'image/key/sha256': array([b''], dtype='|S1'), 'image/format': array([b''], dtype='|S1'), 'image/object/class/text': array([b'Defecto'], dtype='|S7')}\n",
            "24-{'image/object/bbox/xmin': array([0.81086248]), 'image/object/bbox/ymax': array([0.57365835]), 'image/encoded': array([b''], dtype='|S1'), 'image/object/bbox/xmax': array([0.82165623]), 'image/width': array([1600]), 'image/object/bbox/ymin': array([0.55366665]), 'image/filename': array([b'190917_202619_0000000028_&icapbk[000].bmp'], dtype='|S41'), 'image/height': array([1200]), 'image/object/class/label': array([1]), 'image/source_id': array([b''], dtype='|S1'), 'image/key/sha256': array([b''], dtype='|S1'), 'image/format': array([b''], dtype='|S1'), 'image/object/class/text': array([b'Defecto'], dtype='|S7')}\n",
            "25-{'image/object/bbox/xmin': array([0.73720622]), 'image/object/bbox/ymax': array([0.65286666]), 'image/encoded': array([b''], dtype='|S1'), 'image/object/bbox/xmax': array([0.75471872]), 'image/width': array([1600]), 'image/object/bbox/ymin': array([0.62312502]), 'image/filename': array([b'190917_202600_0000000027_&icapbk[000].bmp'], dtype='|S41'), 'image/height': array([1200]), 'image/object/class/label': array([1]), 'image/source_id': array([b''], dtype='|S1'), 'image/key/sha256': array([b''], dtype='|S1'), 'image/format': array([b''], dtype='|S1'), 'image/object/class/text': array([b'Defecto'], dtype='|S7')}\n",
            "26-{'image/object/bbox/xmin': array([0.75400001]), 'image/object/bbox/ymax': array([0.61260003]), 'image/encoded': array([b''], dtype='|S1'), 'image/object/bbox/xmax': array([0.77390623]), 'image/width': array([1600]), 'image/object/bbox/ymin': array([0.59789169]), 'image/filename': array([b'190917_202541_0000000026_&icapbk[000].bmp'], dtype='|S41'), 'image/height': array([1200]), 'image/object/class/label': array([1]), 'image/source_id': array([b''], dtype='|S1'), 'image/key/sha256': array([b''], dtype='|S1'), 'image/format': array([b''], dtype='|S1'), 'image/object/class/text': array([b'Defecto'], dtype='|S7')}\n",
            "27-{'image/object/bbox/xmin': array([0.77767497]), 'image/object/bbox/ymax': array([0.5755583]), 'image/encoded': array([b''], dtype='|S1'), 'image/object/bbox/xmax': array([0.83279997]), 'image/width': array([1600]), 'image/object/bbox/ymin': array([0.46281666]), 'image/filename': array([b'190917_202521_0000000025_&icapbk[000].bmp'], dtype='|S41'), 'image/height': array([1200]), 'image/object/class/label': array([1]), 'image/source_id': array([b''], dtype='|S1'), 'image/key/sha256': array([b''], dtype='|S1'), 'image/format': array([b''], dtype='|S1'), 'image/object/class/text': array([b'Defecto'], dtype='|S7')}\n",
            "28-{'image/object/bbox/xmin': array([0.76225626, 0.80895001]), 'image/object/bbox/ymax': array([0.57799166, 0.49525833]), 'image/encoded': array([b''], dtype='|S1'), 'image/object/bbox/xmax': array([0.774275  , 0.82910001]), 'image/width': array([1600]), 'image/object/bbox/ymin': array([0.533225  , 0.45611668]), 'image/filename': array([b'190917_202502_0000000024_&icapbk[000].bmp'], dtype='|S41'), 'image/height': array([1200]), 'image/object/class/label': array([1, 1]), 'image/source_id': array([b''], dtype='|S1'), 'image/key/sha256': array([b''], dtype='|S1'), 'image/format': array([b''], dtype='|S1'), 'image/object/class/text': array([b'Defecto', b'Defecto'], dtype='|S7')}\n",
            "29-{'image/object/bbox/xmin': array([0.79053748]), 'image/object/bbox/ymax': array([0.71655834]), 'image/encoded': array([b''], dtype='|S1'), 'image/object/bbox/xmax': array([0.81518751]), 'image/width': array([1600]), 'image/object/bbox/ymin': array([0.66570002]), 'image/filename': array([b'190917_202444_0000000023_&icapbk[000].bmp'], dtype='|S41'), 'image/height': array([1200]), 'image/object/class/label': array([1]), 'image/source_id': array([b''], dtype='|S1'), 'image/key/sha256': array([b''], dtype='|S1'), 'image/format': array([b''], dtype='|S1'), 'image/object/class/text': array([b'Defecto'], dtype='|S7')}\n",
            "30-{'image/object/bbox/xmin': array([0.81304997]), 'image/object/bbox/ymax': array([0.607225]), 'image/encoded': array([b''], dtype='|S1'), 'image/object/bbox/xmax': array([0.82360625]), 'image/width': array([1600]), 'image/object/bbox/ymin': array([0.58132499]), 'image/filename': array([b'190917_202424_0000000022_&icapbk[000].bmp'], dtype='|S41'), 'image/height': array([1200]), 'image/object/class/label': array([1]), 'image/source_id': array([b''], dtype='|S1'), 'image/key/sha256': array([b''], dtype='|S1'), 'image/format': array([b''], dtype='|S1'), 'image/object/class/text': array([b'Defecto'], dtype='|S7')}\n",
            "31-{'image/object/bbox/xmin': array([0.72735]), 'image/object/bbox/ymax': array([0.58890003]), 'image/encoded': array([b''], dtype='|S1'), 'image/object/bbox/xmax': array([0.73828751]), 'image/width': array([1600]), 'image/object/bbox/ymin': array([0.56971669]), 'image/filename': array([b'190917_202124_0000000021_&icapbk[000].bmp'], dtype='|S41'), 'image/height': array([1200]), 'image/object/class/label': array([1]), 'image/source_id': array([b''], dtype='|S1'), 'image/key/sha256': array([b''], dtype='|S1'), 'image/format': array([b''], dtype='|S1'), 'image/object/class/text': array([b'Defecto'], dtype='|S7')}\n",
            "32-{'image/object/bbox/xmin': array([0.70918751]), 'image/object/bbox/ymax': array([0.60841668]), 'image/encoded': array([b''], dtype='|S1'), 'image/object/bbox/xmax': array([0.72583753]), 'image/width': array([1600]), 'image/object/bbox/ymin': array([0.56477499]), 'image/filename': array([b'190917_202105_0000000020_&icapbk[000].bmp'], dtype='|S41'), 'image/height': array([1200]), 'image/object/class/label': array([1]), 'image/source_id': array([b''], dtype='|S1'), 'image/key/sha256': array([b''], dtype='|S1'), 'image/format': array([b''], dtype='|S1'), 'image/object/class/text': array([b'Defecto'], dtype='|S7')}\n",
            "33-{'image/object/bbox/xmin': array([0.72223753]), 'image/object/bbox/ymax': array([0.55688334]), 'image/encoded': array([b''], dtype='|S1'), 'image/object/bbox/xmax': array([0.73137498]), 'image/width': array([1600]), 'image/object/bbox/ymin': array([0.5306583]), 'image/filename': array([b'190917_202045_0000000019_&icapbk[000].bmp'], dtype='|S41'), 'image/height': array([1200]), 'image/object/class/label': array([1]), 'image/source_id': array([b''], dtype='|S1'), 'image/key/sha256': array([b''], dtype='|S1'), 'image/format': array([b''], dtype='|S1'), 'image/object/class/text': array([b'Defecto'], dtype='|S7')}\n",
            "34-{'image/object/bbox/xmin': array([0.71441877]), 'image/object/bbox/ymax': array([0.53903335]), 'image/encoded': array([b''], dtype='|S1'), 'image/object/bbox/xmax': array([0.72216874]), 'image/width': array([1600]), 'image/object/bbox/ymin': array([0.48814166]), 'image/filename': array([b'190917_202026_0000000018_&icapbk[000].bmp'], dtype='|S41'), 'image/height': array([1200]), 'image/object/class/label': array([1]), 'image/source_id': array([b''], dtype='|S1'), 'image/key/sha256': array([b''], dtype='|S1'), 'image/format': array([b''], dtype='|S1'), 'image/object/class/text': array([b'Defecto'], dtype='|S7')}\n",
            "35-{'image/object/bbox/xmin': array([0.73704374]), 'image/object/bbox/ymax': array([0.43608335]), 'image/encoded': array([b''], dtype='|S1'), 'image/object/bbox/xmax': array([0.7490375]), 'image/width': array([1600]), 'image/object/bbox/ymin': array([0.39984167]), 'image/filename': array([b'190917_202008_0000000017_&icapbk[000].bmp'], dtype='|S41'), 'image/height': array([1200]), 'image/object/class/label': array([1]), 'image/source_id': array([b''], dtype='|S1'), 'image/key/sha256': array([b''], dtype='|S1'), 'image/format': array([b''], dtype='|S1'), 'image/object/class/text': array([b'Defecto'], dtype='|S7')}\n",
            "36-{'image/object/bbox/xmin': array([0.7140125]), 'image/object/bbox/ymax': array([0.49584165]), 'image/encoded': array([b''], dtype='|S1'), 'image/object/bbox/xmax': array([0.72517502]), 'image/width': array([1600]), 'image/object/bbox/ymin': array([0.45164168]), 'image/filename': array([b'190917_201948_0000000016_&icapbk[000].bmp'], dtype='|S41'), 'image/height': array([1200]), 'image/object/class/label': array([1]), 'image/source_id': array([b''], dtype='|S1'), 'image/key/sha256': array([b''], dtype='|S1'), 'image/format': array([b''], dtype='|S1'), 'image/object/class/text': array([b'Defecto'], dtype='|S7')}\n",
            "37-{'image/object/bbox/xmin': array([0.71273124]), 'image/object/bbox/ymax': array([0.49974999]), 'image/encoded': array([b''], dtype='|S1'), 'image/object/bbox/xmax': array([0.72053748]), 'image/width': array([1600]), 'image/object/bbox/ymin': array([0.47686666]), 'image/filename': array([b'190917_201927_0000000015_&icapbk[000].bmp'], dtype='|S41'), 'image/height': array([1200]), 'image/object/class/label': array([1]), 'image/source_id': array([b''], dtype='|S1'), 'image/key/sha256': array([b''], dtype='|S1'), 'image/format': array([b''], dtype='|S1'), 'image/object/class/text': array([b'Defecto'], dtype='|S7')}\n",
            "38-{'image/object/bbox/xmin': array([0.71478122]), 'image/object/bbox/ymax': array([0.48282501]), 'image/encoded': array([b''], dtype='|S1'), 'image/object/bbox/xmax': array([0.72096872]), 'image/width': array([1600]), 'image/object/bbox/ymin': array([0.46890834]), 'image/filename': array([b'190917_201907_0000000014_&icapbk[000].bmp'], dtype='|S41'), 'image/height': array([1200]), 'image/object/class/label': array([1]), 'image/source_id': array([b''], dtype='|S1'), 'image/key/sha256': array([b''], dtype='|S1'), 'image/format': array([b''], dtype='|S1'), 'image/object/class/text': array([b'Defecto'], dtype='|S7')}\n",
            "39-{'image/object/bbox/xmin': array([0.71599376]), 'image/object/bbox/ymax': array([0.46774167]), 'image/encoded': array([b''], dtype='|S1'), 'image/object/bbox/xmax': array([0.7263875]), 'image/width': array([1600]), 'image/object/bbox/ymin': array([0.42190832]), 'image/filename': array([b'190917_201848_0000000013_&icapbk[000].bmp'], dtype='|S41'), 'image/height': array([1200]), 'image/object/class/label': array([1]), 'image/source_id': array([b''], dtype='|S1'), 'image/key/sha256': array([b''], dtype='|S1'), 'image/format': array([b''], dtype='|S1'), 'image/object/class/text': array([b'Defecto'], dtype='|S7')}\n",
            "40-{'image/object/bbox/xmin': array([0.71298122]), 'image/object/bbox/ymax': array([0.46513334]), 'image/encoded': array([b''], dtype='|S1'), 'image/object/bbox/xmax': array([0.71924376]), 'image/width': array([1600]), 'image/object/bbox/ymin': array([0.44611666]), 'image/filename': array([b'190917_201829_0000000012_&icapbk[000].bmp'], dtype='|S41'), 'image/height': array([1200]), 'image/object/class/label': array([1]), 'image/source_id': array([b''], dtype='|S1'), 'image/key/sha256': array([b''], dtype='|S1'), 'image/format': array([b''], dtype='|S1'), 'image/object/class/text': array([b'Defecto'], dtype='|S7')}\n",
            "41-{'image/object/bbox/xmin': array([0.79027498]), 'image/object/bbox/ymax': array([0.48969999]), 'image/encoded': array([b''], dtype='|S1'), 'image/object/bbox/xmax': array([0.79708123]), 'image/width': array([1600]), 'image/object/bbox/ymin': array([0.46915832]), 'image/filename': array([b'190917_201804_0000000011_&icapbk[000].bmp'], dtype='|S41'), 'image/height': array([1200]), 'image/object/class/label': array([1]), 'image/source_id': array([b''], dtype='|S1'), 'image/key/sha256': array([b''], dtype='|S1'), 'image/format': array([b''], dtype='|S1'), 'image/object/class/text': array([b'Defecto'], dtype='|S7')}\n",
            "42-{'image/object/bbox/xmin': array([0.71201873]), 'image/object/bbox/ymax': array([0.49127501]), 'image/encoded': array([b''], dtype='|S1'), 'image/object/bbox/xmax': array([0.72840625]), 'image/width': array([1600]), 'image/object/bbox/ymin': array([0.42945001]), 'image/filename': array([b'190917_201743_0000000010_&icapbk[000].bmp'], dtype='|S41'), 'image/height': array([1200]), 'image/object/class/label': array([1]), 'image/source_id': array([b''], dtype='|S1'), 'image/key/sha256': array([b''], dtype='|S1'), 'image/format': array([b''], dtype='|S1'), 'image/object/class/text': array([b'Defecto'], dtype='|S7')}\n",
            "43-{'image/object/bbox/xmin': array([0.71201873]), 'image/object/bbox/ymax': array([0.49127501]), 'image/encoded': array([b''], dtype='|S1'), 'image/object/bbox/xmax': array([0.72840625]), 'image/width': array([1600]), 'image/object/bbox/ymin': array([0.42945001]), 'image/filename': array([b'190917_201723_0000000009_&icapbk[000].bmp'], dtype='|S41'), 'image/height': array([1200]), 'image/object/class/label': array([1]), 'image/source_id': array([b''], dtype='|S1'), 'image/key/sha256': array([b''], dtype='|S1'), 'image/format': array([b''], dtype='|S1'), 'image/object/class/text': array([b'Defecto'], dtype='|S7')}\n",
            "44-{'image/object/bbox/xmin': array([0.71735626]), 'image/object/bbox/ymax': array([0.486375]), 'image/encoded': array([b''], dtype='|S1'), 'image/object/bbox/xmax': array([0.72815001]), 'image/width': array([1600]), 'image/object/bbox/ymin': array([0.45412499]), 'image/filename': array([b'190917_201703_0000000008_&icapbk[000].bmp'], dtype='|S41'), 'image/height': array([1200]), 'image/object/class/label': array([1]), 'image/source_id': array([b''], dtype='|S1'), 'image/key/sha256': array([b''], dtype='|S1'), 'image/format': array([b''], dtype='|S1'), 'image/object/class/text': array([b'Defecto'], dtype='|S7')}\n",
            "45-{'image/object/bbox/xmin': array([0.72022498]), 'image/object/bbox/ymax': array([0.48810834]), 'image/encoded': array([b''], dtype='|S1'), 'image/object/bbox/xmax': array([0.72505623]), 'image/width': array([1600]), 'image/object/bbox/ymin': array([0.47189999]), 'image/filename': array([b'190917_201639_0000000007_&icapbk[000].bmp'], dtype='|S41'), 'image/height': array([1200]), 'image/object/class/label': array([1]), 'image/source_id': array([b''], dtype='|S1'), 'image/key/sha256': array([b''], dtype='|S1'), 'image/format': array([b''], dtype='|S1'), 'image/object/class/text': array([b'Defecto'], dtype='|S7')}\n",
            "46-{'image/object/bbox/xmin': array([0.73768127]), 'image/object/bbox/ymax': array([0.40535834]), 'image/encoded': array([b''], dtype='|S1'), 'image/object/bbox/xmax': array([0.74927503]), 'image/width': array([1600]), 'image/object/bbox/ymin': array([0.37204167]), 'image/filename': array([b'190917_201618_0000000006_&icapbk[000].bmp'], dtype='|S41'), 'image/height': array([1200]), 'image/object/class/label': array([1]), 'image/source_id': array([b''], dtype='|S1'), 'image/key/sha256': array([b''], dtype='|S1'), 'image/format': array([b''], dtype='|S1'), 'image/object/class/text': array([b'Defecto'], dtype='|S7')}\n",
            "47-{'image/object/bbox/xmin': array([0.73979998]), 'image/object/bbox/ymax': array([0.44465834]), 'image/encoded': array([b''], dtype='|S1'), 'image/object/bbox/xmax': array([0.74676251]), 'image/width': array([1600]), 'image/object/bbox/ymin': array([0.42542499]), 'image/filename': array([b'190917_201558_0000000005_&icapbk[000].bmp'], dtype='|S41'), 'image/height': array([1200]), 'image/object/class/label': array([1]), 'image/source_id': array([b''], dtype='|S1'), 'image/key/sha256': array([b''], dtype='|S1'), 'image/format': array([b''], dtype='|S1'), 'image/object/class/text': array([b'Defecto'], dtype='|S7')}\n",
            "48-{'image/object/bbox/xmin': array([0.72012502]), 'image/object/bbox/ymax': array([0.53996664]), 'image/encoded': array([b''], dtype='|S1'), 'image/object/bbox/xmax': array([0.73356253]), 'image/width': array([1600]), 'image/object/bbox/ymin': array([0.46834168]), 'image/filename': array([b'190917_201537_0000000004_&icapbk[000].bmp'], dtype='|S41'), 'image/height': array([1200]), 'image/object/class/label': array([1]), 'image/source_id': array([b''], dtype='|S1'), 'image/key/sha256': array([b''], dtype='|S1'), 'image/format': array([b''], dtype='|S1'), 'image/object/class/text': array([b'Defecto'], dtype='|S7')}\n",
            "49-{'image/object/bbox/xmin': array([0.72012502]), 'image/object/bbox/ymax': array([0.53996664]), 'image/encoded': array([b''], dtype='|S1'), 'image/object/bbox/xmax': array([0.73356253]), 'image/width': array([1600]), 'image/object/bbox/ymin': array([0.46834168]), 'image/filename': array([b'190917_201514_0000000003_&icapbk[000].bmp'], dtype='|S41'), 'image/height': array([1200]), 'image/object/class/label': array([1]), 'image/source_id': array([b''], dtype='|S1'), 'image/key/sha256': array([b''], dtype='|S1'), 'image/format': array([b''], dtype='|S1'), 'image/object/class/text': array([b'Defecto'], dtype='|S7')}\n"
          ]
        }
      ]
    }
  ]
}